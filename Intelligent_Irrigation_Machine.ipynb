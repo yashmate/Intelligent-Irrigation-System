{
  "nbformat": 4,
  "nbformat_minor": 0,
  "metadata": {
    "colab": {
      "name": "Intelligent Irrigation Machine.ipynb",
      "provenance": []
    },
    "kernelspec": {
      "name": "python3",
      "display_name": "Python 3"
    }
  },
  "cells": [
    {
      "cell_type": "code",
      "metadata": {
        "id": "9yQ_1xvn5C2g",
        "colab_type": "code",
        "colab": {}
      },
      "source": [
        "import numpy as np\n",
        "import pandas as pd\n",
        "import matplotlib.pyplot as plt"
      ],
      "execution_count": 0,
      "outputs": []
    },
    {
      "cell_type": "code",
      "metadata": {
        "id": "45wwMTpX56yP",
        "colab_type": "code",
        "colab": {
          "base_uri": "https://localhost:8080/",
          "height": 34
        },
        "outputId": "c807cb32-153f-448e-c262-949bfc911de1"
      },
      "source": [
        "from keras.models import Sequential\n",
        "from keras.layers import Dense"
      ],
      "execution_count": 4,
      "outputs": [
        {
          "output_type": "stream",
          "text": [
            "Using TensorFlow backend.\n"
          ],
          "name": "stderr"
        }
      ]
    },
    {
      "cell_type": "code",
      "metadata": {
        "id": "eWw0fEGq5iqw",
        "colab_type": "code",
        "colab": {}
      },
      "source": [
        "df=pd.read_csv(\"irrigation_machine.csv\")"
      ],
      "execution_count": 0,
      "outputs": []
    },
    {
      "cell_type": "code",
      "metadata": {
        "id": "h2sVWSmg5pBb",
        "colab_type": "code",
        "colab": {
          "base_uri": "https://localhost:8080/",
          "height": 234
        },
        "outputId": "514fd5d5-50b5-4166-adeb-df907860a57f"
      },
      "source": [
        "df.head()"
      ],
      "execution_count": 6,
      "outputs": [
        {
          "output_type": "execute_result",
          "data": {
            "text/html": [
              "<div>\n",
              "<style scoped>\n",
              "    .dataframe tbody tr th:only-of-type {\n",
              "        vertical-align: middle;\n",
              "    }\n",
              "\n",
              "    .dataframe tbody tr th {\n",
              "        vertical-align: top;\n",
              "    }\n",
              "\n",
              "    .dataframe thead th {\n",
              "        text-align: right;\n",
              "    }\n",
              "</style>\n",
              "<table border=\"1\" class=\"dataframe\">\n",
              "  <thead>\n",
              "    <tr style=\"text-align: right;\">\n",
              "      <th></th>\n",
              "      <th>Unnamed: 0</th>\n",
              "      <th>sensor_0</th>\n",
              "      <th>sensor_1</th>\n",
              "      <th>sensor_2</th>\n",
              "      <th>sensor_3</th>\n",
              "      <th>sensor_4</th>\n",
              "      <th>sensor_5</th>\n",
              "      <th>sensor_6</th>\n",
              "      <th>sensor_7</th>\n",
              "      <th>sensor_8</th>\n",
              "      <th>sensor_9</th>\n",
              "      <th>sensor_10</th>\n",
              "      <th>sensor_11</th>\n",
              "      <th>sensor_12</th>\n",
              "      <th>sensor_13</th>\n",
              "      <th>sensor_14</th>\n",
              "      <th>sensor_15</th>\n",
              "      <th>sensor_16</th>\n",
              "      <th>sensor_17</th>\n",
              "      <th>sensor_18</th>\n",
              "      <th>sensor_19</th>\n",
              "      <th>parcel_0</th>\n",
              "      <th>parcel_1</th>\n",
              "      <th>parcel_2</th>\n",
              "    </tr>\n",
              "  </thead>\n",
              "  <tbody>\n",
              "    <tr>\n",
              "      <th>0</th>\n",
              "      <td>0</td>\n",
              "      <td>1.0</td>\n",
              "      <td>2.0</td>\n",
              "      <td>1.0</td>\n",
              "      <td>7.0</td>\n",
              "      <td>0.0</td>\n",
              "      <td>1.0</td>\n",
              "      <td>1.0</td>\n",
              "      <td>4.0</td>\n",
              "      <td>0.0</td>\n",
              "      <td>3.0</td>\n",
              "      <td>1.0</td>\n",
              "      <td>3.0</td>\n",
              "      <td>6.0</td>\n",
              "      <td>8.0</td>\n",
              "      <td>1.0</td>\n",
              "      <td>0.0</td>\n",
              "      <td>2.0</td>\n",
              "      <td>1.0</td>\n",
              "      <td>9.0</td>\n",
              "      <td>2.0</td>\n",
              "      <td>0</td>\n",
              "      <td>1</td>\n",
              "      <td>0</td>\n",
              "    </tr>\n",
              "    <tr>\n",
              "      <th>1</th>\n",
              "      <td>1</td>\n",
              "      <td>5.0</td>\n",
              "      <td>1.0</td>\n",
              "      <td>3.0</td>\n",
              "      <td>5.0</td>\n",
              "      <td>2.0</td>\n",
              "      <td>2.0</td>\n",
              "      <td>1.0</td>\n",
              "      <td>2.0</td>\n",
              "      <td>3.0</td>\n",
              "      <td>1.0</td>\n",
              "      <td>3.0</td>\n",
              "      <td>2.0</td>\n",
              "      <td>2.0</td>\n",
              "      <td>4.0</td>\n",
              "      <td>5.0</td>\n",
              "      <td>5.0</td>\n",
              "      <td>2.0</td>\n",
              "      <td>2.0</td>\n",
              "      <td>2.0</td>\n",
              "      <td>7.0</td>\n",
              "      <td>0</td>\n",
              "      <td>0</td>\n",
              "      <td>0</td>\n",
              "    </tr>\n",
              "    <tr>\n",
              "      <th>2</th>\n",
              "      <td>2</td>\n",
              "      <td>3.0</td>\n",
              "      <td>1.0</td>\n",
              "      <td>4.0</td>\n",
              "      <td>3.0</td>\n",
              "      <td>4.0</td>\n",
              "      <td>0.0</td>\n",
              "      <td>1.0</td>\n",
              "      <td>6.0</td>\n",
              "      <td>0.0</td>\n",
              "      <td>2.0</td>\n",
              "      <td>3.0</td>\n",
              "      <td>2.0</td>\n",
              "      <td>4.0</td>\n",
              "      <td>3.0</td>\n",
              "      <td>3.0</td>\n",
              "      <td>1.0</td>\n",
              "      <td>0.0</td>\n",
              "      <td>3.0</td>\n",
              "      <td>1.0</td>\n",
              "      <td>0.0</td>\n",
              "      <td>1</td>\n",
              "      <td>1</td>\n",
              "      <td>0</td>\n",
              "    </tr>\n",
              "    <tr>\n",
              "      <th>3</th>\n",
              "      <td>3</td>\n",
              "      <td>2.0</td>\n",
              "      <td>2.0</td>\n",
              "      <td>4.0</td>\n",
              "      <td>3.0</td>\n",
              "      <td>5.0</td>\n",
              "      <td>0.0</td>\n",
              "      <td>3.0</td>\n",
              "      <td>2.0</td>\n",
              "      <td>2.0</td>\n",
              "      <td>5.0</td>\n",
              "      <td>3.0</td>\n",
              "      <td>1.0</td>\n",
              "      <td>2.0</td>\n",
              "      <td>4.0</td>\n",
              "      <td>1.0</td>\n",
              "      <td>1.0</td>\n",
              "      <td>4.0</td>\n",
              "      <td>1.0</td>\n",
              "      <td>3.0</td>\n",
              "      <td>2.0</td>\n",
              "      <td>0</td>\n",
              "      <td>0</td>\n",
              "      <td>0</td>\n",
              "    </tr>\n",
              "    <tr>\n",
              "      <th>4</th>\n",
              "      <td>4</td>\n",
              "      <td>4.0</td>\n",
              "      <td>3.0</td>\n",
              "      <td>3.0</td>\n",
              "      <td>2.0</td>\n",
              "      <td>5.0</td>\n",
              "      <td>1.0</td>\n",
              "      <td>3.0</td>\n",
              "      <td>1.0</td>\n",
              "      <td>1.0</td>\n",
              "      <td>2.0</td>\n",
              "      <td>4.0</td>\n",
              "      <td>5.0</td>\n",
              "      <td>3.0</td>\n",
              "      <td>1.0</td>\n",
              "      <td>3.0</td>\n",
              "      <td>2.0</td>\n",
              "      <td>2.0</td>\n",
              "      <td>1.0</td>\n",
              "      <td>1.0</td>\n",
              "      <td>0.0</td>\n",
              "      <td>1</td>\n",
              "      <td>1</td>\n",
              "      <td>0</td>\n",
              "    </tr>\n",
              "  </tbody>\n",
              "</table>\n",
              "</div>"
            ],
            "text/plain": [
              "   Unnamed: 0  sensor_0  sensor_1  ...  parcel_0  parcel_1  parcel_2\n",
              "0           0       1.0       2.0  ...         0         1         0\n",
              "1           1       5.0       1.0  ...         0         0         0\n",
              "2           2       3.0       1.0  ...         1         1         0\n",
              "3           3       2.0       2.0  ...         0         0         0\n",
              "4           4       4.0       3.0  ...         1         1         0\n",
              "\n",
              "[5 rows x 24 columns]"
            ]
          },
          "metadata": {
            "tags": []
          },
          "execution_count": 6
        }
      ]
    },
    {
      "cell_type": "code",
      "metadata": {
        "id": "-XjNEwcn5rOp",
        "colab_type": "code",
        "colab": {}
      },
      "source": [
        "del df['Unnamed: 0']"
      ],
      "execution_count": 0,
      "outputs": []
    },
    {
      "cell_type": "code",
      "metadata": {
        "id": "J_MvxDO86WLM",
        "colab_type": "code",
        "colab": {}
      },
      "source": [
        "features=list(df.columns[:-3])"
      ],
      "execution_count": 0,
      "outputs": []
    },
    {
      "cell_type": "code",
      "metadata": {
        "id": "qMoijbgT6gDQ",
        "colab_type": "code",
        "colab": {}
      },
      "source": [
        "classes=list(df.columns[-3:])"
      ],
      "execution_count": 0,
      "outputs": []
    },
    {
      "cell_type": "code",
      "metadata": {
        "id": "WmBeNHxy6p7u",
        "colab_type": "code",
        "colab": {}
      },
      "source": [
        "sensors = df[features]\n",
        "parcels=df[classes]"
      ],
      "execution_count": 0,
      "outputs": []
    },
    {
      "cell_type": "code",
      "metadata": {
        "id": "NSzT-0jG6qAg",
        "colab_type": "code",
        "colab": {}
      },
      "source": [
        "from sklearn.model_selection import train_test_split"
      ],
      "execution_count": 0,
      "outputs": []
    },
    {
      "cell_type": "code",
      "metadata": {
        "id": "hUXc-PVl68fs",
        "colab_type": "code",
        "colab": {}
      },
      "source": [
        "sensors_train, sensors_test, parcels_train, parcels_test = train_test_split(sensors, parcels, test_size=0.2)"
      ],
      "execution_count": 0,
      "outputs": []
    },
    {
      "cell_type": "code",
      "metadata": {
        "id": "4HtDajh768pB",
        "colab_type": "code",
        "colab": {
          "base_uri": "https://localhost:8080/",
          "height": 34
        },
        "outputId": "dacb1487-ab7e-4e65-857d-ebbf24d15c73"
      },
      "source": [
        "sensors_train.shape"
      ],
      "execution_count": 17,
      "outputs": [
        {
          "output_type": "execute_result",
          "data": {
            "text/plain": [
              "(1600, 20)"
            ]
          },
          "metadata": {
            "tags": []
          },
          "execution_count": 17
        }
      ]
    },
    {
      "cell_type": "code",
      "metadata": {
        "id": "8MdNb6af5WOS",
        "colab_type": "code",
        "colab": {
          "base_uri": "https://localhost:8080/",
          "height": 230
        },
        "outputId": "1e4f9346-e0a9-4a2c-fbe9-d01a0b1b85fd"
      },
      "source": [
        "# Instantiate a Sequential model\n",
        "model = Sequential()\n",
        "\n",
        "# Add a hidden layer of 64 neurons and a 20 neuron's input\n",
        "model.add(Dense(64,input_shape=(20,),activation='relu'))\n",
        "\n",
        "# Add an output layer of 3 neurons with sigmoid activation\n",
        "model.add(Dense(3,activation='sigmoid'))\n",
        "\n",
        "# Compile your model with adam and binary crossentropy loss\n",
        "model.compile(optimizer='adam',\n",
        "           loss='binary_crossentropy',\n",
        "           metrics=['accuracy'])\n",
        "\n",
        "model.summary()"
      ],
      "execution_count": 18,
      "outputs": [
        {
          "output_type": "stream",
          "text": [
            "Model: \"sequential_2\"\n",
            "_________________________________________________________________\n",
            "Layer (type)                 Output Shape              Param #   \n",
            "=================================================================\n",
            "dense_3 (Dense)              (None, 64)                1344      \n",
            "_________________________________________________________________\n",
            "dense_4 (Dense)              (None, 3)                 195       \n",
            "=================================================================\n",
            "Total params: 1,539\n",
            "Trainable params: 1,539\n",
            "Non-trainable params: 0\n",
            "_________________________________________________________________\n"
          ],
          "name": "stdout"
        }
      ]
    },
    {
      "cell_type": "code",
      "metadata": {
        "id": "8W_bjWCN5cL8",
        "colab_type": "code",
        "colab": {
          "base_uri": "https://localhost:8080/",
          "height": 1000
        },
        "outputId": "3c335e50-c358-4198-aa97-7272bd1db1b3"
      },
      "source": [
        "# Train for 100 epochs using a validation split of 0.2\n",
        "model.fit(sensors_train, parcels_train, epochs = 100, validation_split = 0.2)\n",
        "\n",
        "# Predict on sensors_test and round up the predictions\n",
        "preds = model.predict(sensors_test)\n",
        "preds_rounded = np.round(preds)\n",
        "\n",
        "# Print rounded preds\n",
        "print('Rounded Predictions: \\n', preds_rounded)\n",
        "\n",
        "# Evaluate your model's accuracy on the test data\n",
        "accuracy =model.evaluate(sensors_test,parcels_test)\n",
        "\n",
        "# Print accuracy\n",
        "print('Accuracy:', accuracy)"
      ],
      "execution_count": 21,
      "outputs": [
        {
          "output_type": "stream",
          "text": [
            "Train on 1280 samples, validate on 320 samples\n",
            "Epoch 1/100\n",
            "1280/1280 [==============================] - 0s 46us/step - loss: 0.0649 - accuracy: 0.9828 - val_loss: 0.4273 - val_accuracy: 0.8760\n",
            "Epoch 2/100\n",
            "1280/1280 [==============================] - 0s 41us/step - loss: 0.0661 - accuracy: 0.9810 - val_loss: 0.4321 - val_accuracy: 0.8865\n",
            "Epoch 3/100\n",
            "1280/1280 [==============================] - 0s 40us/step - loss: 0.0660 - accuracy: 0.9776 - val_loss: 0.4400 - val_accuracy: 0.8823\n",
            "Epoch 4/100\n",
            "1280/1280 [==============================] - 0s 40us/step - loss: 0.0695 - accuracy: 0.9784 - val_loss: 0.4336 - val_accuracy: 0.8854\n",
            "Epoch 5/100\n",
            "1280/1280 [==============================] - 0s 40us/step - loss: 0.0639 - accuracy: 0.9820 - val_loss: 0.4332 - val_accuracy: 0.8833\n",
            "Epoch 6/100\n",
            "1280/1280 [==============================] - 0s 40us/step - loss: 0.0649 - accuracy: 0.9815 - val_loss: 0.4346 - val_accuracy: 0.8875\n",
            "Epoch 7/100\n",
            "1280/1280 [==============================] - 0s 41us/step - loss: 0.0629 - accuracy: 0.9812 - val_loss: 0.4371 - val_accuracy: 0.8875\n",
            "Epoch 8/100\n",
            "1280/1280 [==============================] - 0s 42us/step - loss: 0.0653 - accuracy: 0.9789 - val_loss: 0.4404 - val_accuracy: 0.8813\n",
            "Epoch 9/100\n",
            "1280/1280 [==============================] - 0s 40us/step - loss: 0.0662 - accuracy: 0.9784 - val_loss: 0.4389 - val_accuracy: 0.8833\n",
            "Epoch 10/100\n",
            "1280/1280 [==============================] - 0s 41us/step - loss: 0.0621 - accuracy: 0.9815 - val_loss: 0.4434 - val_accuracy: 0.8854\n",
            "Epoch 11/100\n",
            "1280/1280 [==============================] - 0s 40us/step - loss: 0.0627 - accuracy: 0.9828 - val_loss: 0.4452 - val_accuracy: 0.8844\n",
            "Epoch 12/100\n",
            "1280/1280 [==============================] - 0s 39us/step - loss: 0.0620 - accuracy: 0.9849 - val_loss: 0.4426 - val_accuracy: 0.8854\n",
            "Epoch 13/100\n",
            "1280/1280 [==============================] - 0s 40us/step - loss: 0.0604 - accuracy: 0.9846 - val_loss: 0.4485 - val_accuracy: 0.8865\n",
            "Epoch 14/100\n",
            "1280/1280 [==============================] - 0s 39us/step - loss: 0.0600 - accuracy: 0.9826 - val_loss: 0.4484 - val_accuracy: 0.8833\n",
            "Epoch 15/100\n",
            "1280/1280 [==============================] - 0s 40us/step - loss: 0.0608 - accuracy: 0.9826 - val_loss: 0.4466 - val_accuracy: 0.8875\n",
            "Epoch 16/100\n",
            "1280/1280 [==============================] - 0s 40us/step - loss: 0.0601 - accuracy: 0.9828 - val_loss: 0.4529 - val_accuracy: 0.8823\n",
            "Epoch 17/100\n",
            "1280/1280 [==============================] - 0s 43us/step - loss: 0.0599 - accuracy: 0.9844 - val_loss: 0.4527 - val_accuracy: 0.8844\n",
            "Epoch 18/100\n",
            "1280/1280 [==============================] - 0s 40us/step - loss: 0.0589 - accuracy: 0.9852 - val_loss: 0.4521 - val_accuracy: 0.8760\n",
            "Epoch 19/100\n",
            "1280/1280 [==============================] - 0s 40us/step - loss: 0.0595 - accuracy: 0.9833 - val_loss: 0.4589 - val_accuracy: 0.8833\n",
            "Epoch 20/100\n",
            "1280/1280 [==============================] - 0s 39us/step - loss: 0.0578 - accuracy: 0.9841 - val_loss: 0.4774 - val_accuracy: 0.8667\n",
            "Epoch 21/100\n",
            "1280/1280 [==============================] - 0s 53us/step - loss: 0.0643 - accuracy: 0.9794 - val_loss: 0.4608 - val_accuracy: 0.8865\n",
            "Epoch 22/100\n",
            "1280/1280 [==============================] - 0s 52us/step - loss: 0.0601 - accuracy: 0.9841 - val_loss: 0.4596 - val_accuracy: 0.8760\n",
            "Epoch 23/100\n",
            "1280/1280 [==============================] - 0s 41us/step - loss: 0.0581 - accuracy: 0.9852 - val_loss: 0.4565 - val_accuracy: 0.8875\n",
            "Epoch 24/100\n",
            "1280/1280 [==============================] - 0s 41us/step - loss: 0.0586 - accuracy: 0.9852 - val_loss: 0.4576 - val_accuracy: 0.8771\n",
            "Epoch 25/100\n",
            "1280/1280 [==============================] - 0s 41us/step - loss: 0.0600 - accuracy: 0.9826 - val_loss: 0.4572 - val_accuracy: 0.8865\n",
            "Epoch 26/100\n",
            "1280/1280 [==============================] - 0s 40us/step - loss: 0.0603 - accuracy: 0.9839 - val_loss: 0.4627 - val_accuracy: 0.8813\n",
            "Epoch 27/100\n",
            "1280/1280 [==============================] - 0s 41us/step - loss: 0.0571 - accuracy: 0.9841 - val_loss: 0.4637 - val_accuracy: 0.8771\n",
            "Epoch 28/100\n",
            "1280/1280 [==============================] - 0s 47us/step - loss: 0.0578 - accuracy: 0.9833 - val_loss: 0.4645 - val_accuracy: 0.8833\n",
            "Epoch 29/100\n",
            "1280/1280 [==============================] - 0s 42us/step - loss: 0.0564 - accuracy: 0.9854 - val_loss: 0.4696 - val_accuracy: 0.8823\n",
            "Epoch 30/100\n",
            "1280/1280 [==============================] - 0s 40us/step - loss: 0.0571 - accuracy: 0.9857 - val_loss: 0.4681 - val_accuracy: 0.8813\n",
            "Epoch 31/100\n",
            "1280/1280 [==============================] - 0s 41us/step - loss: 0.0561 - accuracy: 0.9857 - val_loss: 0.4700 - val_accuracy: 0.8865\n",
            "Epoch 32/100\n",
            "1280/1280 [==============================] - 0s 40us/step - loss: 0.0564 - accuracy: 0.9836 - val_loss: 0.4764 - val_accuracy: 0.8813\n",
            "Epoch 33/100\n",
            "1280/1280 [==============================] - 0s 42us/step - loss: 0.0573 - accuracy: 0.9844 - val_loss: 0.4730 - val_accuracy: 0.8760\n",
            "Epoch 34/100\n",
            "1280/1280 [==============================] - 0s 41us/step - loss: 0.0552 - accuracy: 0.9862 - val_loss: 0.4731 - val_accuracy: 0.8813\n",
            "Epoch 35/100\n",
            "1280/1280 [==============================] - 0s 44us/step - loss: 0.0550 - accuracy: 0.9865 - val_loss: 0.4742 - val_accuracy: 0.8802\n",
            "Epoch 36/100\n",
            "1280/1280 [==============================] - 0s 43us/step - loss: 0.0540 - accuracy: 0.9872 - val_loss: 0.4736 - val_accuracy: 0.8802\n",
            "Epoch 37/100\n",
            "1280/1280 [==============================] - 0s 40us/step - loss: 0.0561 - accuracy: 0.9867 - val_loss: 0.4764 - val_accuracy: 0.8833\n",
            "Epoch 38/100\n",
            "1280/1280 [==============================] - 0s 40us/step - loss: 0.0536 - accuracy: 0.9865 - val_loss: 0.4797 - val_accuracy: 0.8823\n",
            "Epoch 39/100\n",
            "1280/1280 [==============================] - 0s 41us/step - loss: 0.0542 - accuracy: 0.9883 - val_loss: 0.4839 - val_accuracy: 0.8771\n",
            "Epoch 40/100\n",
            "1280/1280 [==============================] - 0s 40us/step - loss: 0.0533 - accuracy: 0.9857 - val_loss: 0.4757 - val_accuracy: 0.8833\n",
            "Epoch 41/100\n",
            "1280/1280 [==============================] - 0s 43us/step - loss: 0.0549 - accuracy: 0.9862 - val_loss: 0.4887 - val_accuracy: 0.8760\n",
            "Epoch 42/100\n",
            "1280/1280 [==============================] - 0s 40us/step - loss: 0.0538 - accuracy: 0.9872 - val_loss: 0.4830 - val_accuracy: 0.8833\n",
            "Epoch 43/100\n",
            "1280/1280 [==============================] - 0s 40us/step - loss: 0.0542 - accuracy: 0.9862 - val_loss: 0.4843 - val_accuracy: 0.8833\n",
            "Epoch 44/100\n",
            "1280/1280 [==============================] - 0s 40us/step - loss: 0.0533 - accuracy: 0.9859 - val_loss: 0.4837 - val_accuracy: 0.8813\n",
            "Epoch 45/100\n",
            "1280/1280 [==============================] - 0s 40us/step - loss: 0.0537 - accuracy: 0.9854 - val_loss: 0.4879 - val_accuracy: 0.8823\n",
            "Epoch 46/100\n",
            "1280/1280 [==============================] - 0s 40us/step - loss: 0.0545 - accuracy: 0.9875 - val_loss: 0.4846 - val_accuracy: 0.8781\n",
            "Epoch 47/100\n",
            "1280/1280 [==============================] - 0s 39us/step - loss: 0.0527 - accuracy: 0.9857 - val_loss: 0.4973 - val_accuracy: 0.8729\n",
            "Epoch 48/100\n",
            "1280/1280 [==============================] - 0s 39us/step - loss: 0.0510 - accuracy: 0.9885 - val_loss: 0.4912 - val_accuracy: 0.8792\n",
            "Epoch 49/100\n",
            "1280/1280 [==============================] - 0s 43us/step - loss: 0.0513 - accuracy: 0.9875 - val_loss: 0.4891 - val_accuracy: 0.8813\n",
            "Epoch 50/100\n",
            "1280/1280 [==============================] - 0s 42us/step - loss: 0.0523 - accuracy: 0.9875 - val_loss: 0.4989 - val_accuracy: 0.8823\n",
            "Epoch 51/100\n",
            "1280/1280 [==============================] - 0s 40us/step - loss: 0.0530 - accuracy: 0.9870 - val_loss: 0.4889 - val_accuracy: 0.8823\n",
            "Epoch 52/100\n",
            "1280/1280 [==============================] - 0s 39us/step - loss: 0.0527 - accuracy: 0.9865 - val_loss: 0.4977 - val_accuracy: 0.8687\n",
            "Epoch 53/100\n",
            "1280/1280 [==============================] - 0s 39us/step - loss: 0.0534 - accuracy: 0.9849 - val_loss: 0.4935 - val_accuracy: 0.8844\n",
            "Epoch 54/100\n",
            "1280/1280 [==============================] - 0s 41us/step - loss: 0.0505 - accuracy: 0.9896 - val_loss: 0.4981 - val_accuracy: 0.8833\n",
            "Epoch 55/100\n",
            "1280/1280 [==============================] - 0s 40us/step - loss: 0.0510 - accuracy: 0.9885 - val_loss: 0.5003 - val_accuracy: 0.8802\n",
            "Epoch 56/100\n",
            "1280/1280 [==============================] - 0s 39us/step - loss: 0.0491 - accuracy: 0.9888 - val_loss: 0.4991 - val_accuracy: 0.8781\n",
            "Epoch 57/100\n",
            "1280/1280 [==============================] - 0s 40us/step - loss: 0.0496 - accuracy: 0.9883 - val_loss: 0.4973 - val_accuracy: 0.8792\n",
            "Epoch 58/100\n",
            "1280/1280 [==============================] - 0s 40us/step - loss: 0.0497 - accuracy: 0.9883 - val_loss: 0.5053 - val_accuracy: 0.8760\n",
            "Epoch 59/100\n",
            "1280/1280 [==============================] - 0s 39us/step - loss: 0.0503 - accuracy: 0.9888 - val_loss: 0.5038 - val_accuracy: 0.8781\n",
            "Epoch 60/100\n",
            "1280/1280 [==============================] - 0s 40us/step - loss: 0.0487 - accuracy: 0.9896 - val_loss: 0.5096 - val_accuracy: 0.8750\n",
            "Epoch 61/100\n",
            "1280/1280 [==============================] - 0s 40us/step - loss: 0.0493 - accuracy: 0.9870 - val_loss: 0.5045 - val_accuracy: 0.8792\n",
            "Epoch 62/100\n",
            "1280/1280 [==============================] - 0s 40us/step - loss: 0.0493 - accuracy: 0.9893 - val_loss: 0.5069 - val_accuracy: 0.8812\n",
            "Epoch 63/100\n",
            "1280/1280 [==============================] - 0s 40us/step - loss: 0.0479 - accuracy: 0.9891 - val_loss: 0.5126 - val_accuracy: 0.8771\n",
            "Epoch 64/100\n",
            "1280/1280 [==============================] - 0s 40us/step - loss: 0.0485 - accuracy: 0.9893 - val_loss: 0.5116 - val_accuracy: 0.8802\n",
            "Epoch 65/100\n",
            "1280/1280 [==============================] - 0s 40us/step - loss: 0.0487 - accuracy: 0.9883 - val_loss: 0.5115 - val_accuracy: 0.8813\n",
            "Epoch 66/100\n",
            "1280/1280 [==============================] - 0s 47us/step - loss: 0.0488 - accuracy: 0.9893 - val_loss: 0.5169 - val_accuracy: 0.8740\n",
            "Epoch 67/100\n",
            "1280/1280 [==============================] - 0s 42us/step - loss: 0.0475 - accuracy: 0.9906 - val_loss: 0.5122 - val_accuracy: 0.8833\n",
            "Epoch 68/100\n",
            "1280/1280 [==============================] - 0s 40us/step - loss: 0.0466 - accuracy: 0.9904 - val_loss: 0.5165 - val_accuracy: 0.8781\n",
            "Epoch 69/100\n",
            "1280/1280 [==============================] - 0s 41us/step - loss: 0.0477 - accuracy: 0.9891 - val_loss: 0.5139 - val_accuracy: 0.8760\n",
            "Epoch 70/100\n",
            "1280/1280 [==============================] - 0s 40us/step - loss: 0.0474 - accuracy: 0.9896 - val_loss: 0.5184 - val_accuracy: 0.8802\n",
            "Epoch 71/100\n",
            "1280/1280 [==============================] - 0s 40us/step - loss: 0.0479 - accuracy: 0.9896 - val_loss: 0.5219 - val_accuracy: 0.8740\n",
            "Epoch 72/100\n",
            "1280/1280 [==============================] - 0s 40us/step - loss: 0.0460 - accuracy: 0.9906 - val_loss: 0.5242 - val_accuracy: 0.8771\n",
            "Epoch 73/100\n",
            "1280/1280 [==============================] - 0s 44us/step - loss: 0.0476 - accuracy: 0.9885 - val_loss: 0.5336 - val_accuracy: 0.8687\n",
            "Epoch 74/100\n",
            "1280/1280 [==============================] - 0s 43us/step - loss: 0.0462 - accuracy: 0.9896 - val_loss: 0.5210 - val_accuracy: 0.8771\n",
            "Epoch 75/100\n",
            "1280/1280 [==============================] - 0s 39us/step - loss: 0.0462 - accuracy: 0.9904 - val_loss: 0.5274 - val_accuracy: 0.8729\n",
            "Epoch 76/100\n",
            "1280/1280 [==============================] - 0s 39us/step - loss: 0.0450 - accuracy: 0.9906 - val_loss: 0.5261 - val_accuracy: 0.8802\n",
            "Epoch 77/100\n",
            "1280/1280 [==============================] - 0s 40us/step - loss: 0.0457 - accuracy: 0.9888 - val_loss: 0.5237 - val_accuracy: 0.8813\n",
            "Epoch 78/100\n",
            "1280/1280 [==============================] - 0s 40us/step - loss: 0.0447 - accuracy: 0.9898 - val_loss: 0.5298 - val_accuracy: 0.8729\n",
            "Epoch 79/100\n",
            "1280/1280 [==============================] - 0s 40us/step - loss: 0.0443 - accuracy: 0.9901 - val_loss: 0.5328 - val_accuracy: 0.8792\n",
            "Epoch 80/100\n",
            "1280/1280 [==============================] - 0s 40us/step - loss: 0.0437 - accuracy: 0.9919 - val_loss: 0.5288 - val_accuracy: 0.8823\n",
            "Epoch 81/100\n",
            "1280/1280 [==============================] - 0s 43us/step - loss: 0.0451 - accuracy: 0.9914 - val_loss: 0.5335 - val_accuracy: 0.8771\n",
            "Epoch 82/100\n",
            "1280/1280 [==============================] - 0s 40us/step - loss: 0.0438 - accuracy: 0.9911 - val_loss: 0.5377 - val_accuracy: 0.8760\n",
            "Epoch 83/100\n",
            "1280/1280 [==============================] - 0s 40us/step - loss: 0.0464 - accuracy: 0.9888 - val_loss: 0.5364 - val_accuracy: 0.8760\n",
            "Epoch 84/100\n",
            "1280/1280 [==============================] - 0s 40us/step - loss: 0.0447 - accuracy: 0.9896 - val_loss: 0.5408 - val_accuracy: 0.8781\n",
            "Epoch 85/100\n",
            "1280/1280 [==============================] - 0s 40us/step - loss: 0.0453 - accuracy: 0.9917 - val_loss: 0.5386 - val_accuracy: 0.8802\n",
            "Epoch 86/100\n",
            "1280/1280 [==============================] - 0s 40us/step - loss: 0.0434 - accuracy: 0.9911 - val_loss: 0.5395 - val_accuracy: 0.8750\n",
            "Epoch 87/100\n",
            "1280/1280 [==============================] - 0s 41us/step - loss: 0.0452 - accuracy: 0.9917 - val_loss: 0.5473 - val_accuracy: 0.8698\n",
            "Epoch 88/100\n",
            "1280/1280 [==============================] - 0s 41us/step - loss: 0.0428 - accuracy: 0.9922 - val_loss: 0.5472 - val_accuracy: 0.8802\n",
            "Epoch 89/100\n",
            "1280/1280 [==============================] - 0s 42us/step - loss: 0.0445 - accuracy: 0.9896 - val_loss: 0.5527 - val_accuracy: 0.8729\n",
            "Epoch 90/100\n",
            "1280/1280 [==============================] - 0s 41us/step - loss: 0.0436 - accuracy: 0.9911 - val_loss: 0.5419 - val_accuracy: 0.8792\n",
            "Epoch 91/100\n",
            "1280/1280 [==============================] - 0s 40us/step - loss: 0.0426 - accuracy: 0.9909 - val_loss: 0.5454 - val_accuracy: 0.8792\n",
            "Epoch 92/100\n",
            "1280/1280 [==============================] - 0s 40us/step - loss: 0.0415 - accuracy: 0.9937 - val_loss: 0.5498 - val_accuracy: 0.8771\n",
            "Epoch 93/100\n",
            "1280/1280 [==============================] - 0s 43us/step - loss: 0.0418 - accuracy: 0.9919 - val_loss: 0.5526 - val_accuracy: 0.8719\n",
            "Epoch 94/100\n",
            "1280/1280 [==============================] - 0s 40us/step - loss: 0.0422 - accuracy: 0.9922 - val_loss: 0.5569 - val_accuracy: 0.8708\n",
            "Epoch 95/100\n",
            "1280/1280 [==============================] - 0s 40us/step - loss: 0.0410 - accuracy: 0.9945 - val_loss: 0.5524 - val_accuracy: 0.8750\n",
            "Epoch 96/100\n",
            "1280/1280 [==============================] - 0s 43us/step - loss: 0.0414 - accuracy: 0.9924 - val_loss: 0.5607 - val_accuracy: 0.8708\n",
            "Epoch 97/100\n",
            "1280/1280 [==============================] - 0s 41us/step - loss: 0.0418 - accuracy: 0.9917 - val_loss: 0.5607 - val_accuracy: 0.8708\n",
            "Epoch 98/100\n",
            "1280/1280 [==============================] - 0s 41us/step - loss: 0.0411 - accuracy: 0.9919 - val_loss: 0.5585 - val_accuracy: 0.8729\n",
            "Epoch 99/100\n",
            "1280/1280 [==============================] - 0s 40us/step - loss: 0.0429 - accuracy: 0.9904 - val_loss: 0.5561 - val_accuracy: 0.8750\n",
            "Epoch 100/100\n",
            "1280/1280 [==============================] - 0s 42us/step - loss: 0.0417 - accuracy: 0.9917 - val_loss: 0.5624 - val_accuracy: 0.8771\n",
            "Rounded Predictions: \n",
            " [[1. 1. 0.]\n",
            " [1. 1. 1.]\n",
            " [0. 1. 0.]\n",
            " ...\n",
            " [1. 1. 0.]\n",
            " [1. 1. 0.]\n",
            " [0. 0. 0.]]\n",
            "400/400 [==============================] - 0s 22us/step\n",
            "Accuracy: [0.40730749994516374, 0.9000000953674316]\n"
          ],
          "name": "stdout"
        }
      ]
    },
    {
      "cell_type": "code",
      "metadata": {
        "id": "QS9FmItc5cQc",
        "colab_type": "code",
        "colab": {}
      },
      "source": [
        ""
      ],
      "execution_count": 0,
      "outputs": []
    }
  ]
}